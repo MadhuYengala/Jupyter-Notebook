{
 "cells": [
  {
   "cell_type": "code",
   "execution_count": 1,
   "metadata": {},
   "outputs": [
    {
     "output_type": "execute_result",
     "data": {
      "text/plain": "'1.0.5'"
     },
     "metadata": {},
     "execution_count": 1
    }
   ],
   "source": [
    "import pandas\n",
    "pandas.__version__"
   ]
  },
  {
   "cell_type": "code",
   "execution_count": 8,
   "metadata": {},
   "outputs": [
    {
     "output_type": "execute_result",
     "data": {
      "text/plain": "          country continent  year  lifeExp       pop   gdpPercap\n0     Afghanistan      Asia  1952   28.801   8425333  779.445314\n1     Afghanistan      Asia  1957   30.332   9240934  820.853030\n2     Afghanistan      Asia  1962   31.997  10267083  853.100710\n3     Afghanistan      Asia  1967   34.020  11537966  836.197138\n4     Afghanistan      Asia  1972   36.088  13079460  739.981106\n...           ...       ...   ...      ...       ...         ...\n1699     Zimbabwe    Africa  1987   62.351   9216418  706.157306\n1700     Zimbabwe    Africa  1992   60.377  10704340  693.420786\n1701     Zimbabwe    Africa  1997   46.809  11404948  792.449960\n1702     Zimbabwe    Africa  2002   39.989  11926563  672.038623\n1703     Zimbabwe    Africa  2007   43.487  12311143  469.709298\n\n[1704 rows x 6 columns]",
      "text/html": "<div>\n<style scoped>\n    .dataframe tbody tr th:only-of-type {\n        vertical-align: middle;\n    }\n\n    .dataframe tbody tr th {\n        vertical-align: top;\n    }\n\n    .dataframe thead th {\n        text-align: right;\n    }\n</style>\n<table border=\"1\" class=\"dataframe\">\n  <thead>\n    <tr style=\"text-align: right;\">\n      <th></th>\n      <th>country</th>\n      <th>continent</th>\n      <th>year</th>\n      <th>lifeExp</th>\n      <th>pop</th>\n      <th>gdpPercap</th>\n    </tr>\n  </thead>\n  <tbody>\n    <tr>\n      <th>0</th>\n      <td>Afghanistan</td>\n      <td>Asia</td>\n      <td>1952</td>\n      <td>28.801</td>\n      <td>8425333</td>\n      <td>779.445314</td>\n    </tr>\n    <tr>\n      <th>1</th>\n      <td>Afghanistan</td>\n      <td>Asia</td>\n      <td>1957</td>\n      <td>30.332</td>\n      <td>9240934</td>\n      <td>820.853030</td>\n    </tr>\n    <tr>\n      <th>2</th>\n      <td>Afghanistan</td>\n      <td>Asia</td>\n      <td>1962</td>\n      <td>31.997</td>\n      <td>10267083</td>\n      <td>853.100710</td>\n    </tr>\n    <tr>\n      <th>3</th>\n      <td>Afghanistan</td>\n      <td>Asia</td>\n      <td>1967</td>\n      <td>34.020</td>\n      <td>11537966</td>\n      <td>836.197138</td>\n    </tr>\n    <tr>\n      <th>4</th>\n      <td>Afghanistan</td>\n      <td>Asia</td>\n      <td>1972</td>\n      <td>36.088</td>\n      <td>13079460</td>\n      <td>739.981106</td>\n    </tr>\n    <tr>\n      <th>...</th>\n      <td>...</td>\n      <td>...</td>\n      <td>...</td>\n      <td>...</td>\n      <td>...</td>\n      <td>...</td>\n    </tr>\n    <tr>\n      <th>1699</th>\n      <td>Zimbabwe</td>\n      <td>Africa</td>\n      <td>1987</td>\n      <td>62.351</td>\n      <td>9216418</td>\n      <td>706.157306</td>\n    </tr>\n    <tr>\n      <th>1700</th>\n      <td>Zimbabwe</td>\n      <td>Africa</td>\n      <td>1992</td>\n      <td>60.377</td>\n      <td>10704340</td>\n      <td>693.420786</td>\n    </tr>\n    <tr>\n      <th>1701</th>\n      <td>Zimbabwe</td>\n      <td>Africa</td>\n      <td>1997</td>\n      <td>46.809</td>\n      <td>11404948</td>\n      <td>792.449960</td>\n    </tr>\n    <tr>\n      <th>1702</th>\n      <td>Zimbabwe</td>\n      <td>Africa</td>\n      <td>2002</td>\n      <td>39.989</td>\n      <td>11926563</td>\n      <td>672.038623</td>\n    </tr>\n    <tr>\n      <th>1703</th>\n      <td>Zimbabwe</td>\n      <td>Africa</td>\n      <td>2007</td>\n      <td>43.487</td>\n      <td>12311143</td>\n      <td>469.709298</td>\n    </tr>\n  </tbody>\n</table>\n<p>1704 rows × 6 columns</p>\n</div>"
     },
     "metadata": {},
     "execution_count": 8
    }
   ],
   "source": [
    "import pandas\n",
    "pandas.read_csv(r'C:\\Users\\mryengala\\Desktop\\Pandas\\data\\gapminder.tsv' , sep ='\\t')"
   ]
  },
  {
   "cell_type": "code",
   "execution_count": 5,
   "metadata": {
    "tags": []
   },
   "outputs": [
    {
     "output_type": "execute_result",
     "data": {
      "text/plain": "pandas.core.frame.DataFrame"
     },
     "metadata": {},
     "execution_count": 5
    }
   ],
   "source": [
    "import pandas as pd \n",
    "df = pd.read_csv(r'C:\\Users\\mryengala\\Desktop\\py\\Pandas\\data\\gapminder.tsv' , sep ='\\t')\n",
    "# type of panda dataframe\n",
    "type(df)"
   ]
  },
  {
   "cell_type": "code",
   "execution_count": 6,
   "metadata": {},
   "outputs": [
    {
     "output_type": "execute_result",
     "data": {
      "text/plain": "(1704, 6)"
     },
     "metadata": {},
     "execution_count": 6
    }
   ],
   "source": [
    "# shape --No of records and columns\n",
    "df.shape"
   ]
  },
  {
   "cell_type": "code",
   "execution_count": 7,
   "metadata": {
    "tags": []
   },
   "outputs": [
    {
     "output_type": "stream",
     "name": "stdout",
     "text": "<class 'pandas.core.frame.DataFrame'>\nRangeIndex: 1704 entries, 0 to 1703\nData columns (total 6 columns):\n #   Column     Non-Null Count  Dtype  \n---  ------     --------------  -----  \n 0   country    1704 non-null   object \n 1   continent  1704 non-null   object \n 2   year       1704 non-null   int64  \n 3   lifeExp    1704 non-null   float64\n 4   pop        1704 non-null   int64  \n 5   gdpPercap  1704 non-null   float64\ndtypes: float64(2), int64(2), object(2)\nmemory usage: 66.6+ KB\n"
    }
   ],
   "source": [
    "#Info about data ,data tyype\n",
    "df.info()"
   ]
  },
  {
   "cell_type": "code",
   "execution_count": 8,
   "metadata": {},
   "outputs": [
    {
     "output_type": "execute_result",
     "data": {
      "text/plain": "       country continent  year  lifeExp       pop   gdpPercap\n0  Afghanistan      Asia  1952   28.801   8425333  779.445314\n1  Afghanistan      Asia  1957   30.332   9240934  820.853030\n2  Afghanistan      Asia  1962   31.997  10267083  853.100710\n3  Afghanistan      Asia  1967   34.020  11537966  836.197138\n4  Afghanistan      Asia  1972   36.088  13079460  739.981106",
      "text/html": "<div>\n<style scoped>\n    .dataframe tbody tr th:only-of-type {\n        vertical-align: middle;\n    }\n\n    .dataframe tbody tr th {\n        vertical-align: top;\n    }\n\n    .dataframe thead th {\n        text-align: right;\n    }\n</style>\n<table border=\"1\" class=\"dataframe\">\n  <thead>\n    <tr style=\"text-align: right;\">\n      <th></th>\n      <th>country</th>\n      <th>continent</th>\n      <th>year</th>\n      <th>lifeExp</th>\n      <th>pop</th>\n      <th>gdpPercap</th>\n    </tr>\n  </thead>\n  <tbody>\n    <tr>\n      <th>0</th>\n      <td>Afghanistan</td>\n      <td>Asia</td>\n      <td>1952</td>\n      <td>28.801</td>\n      <td>8425333</td>\n      <td>779.445314</td>\n    </tr>\n    <tr>\n      <th>1</th>\n      <td>Afghanistan</td>\n      <td>Asia</td>\n      <td>1957</td>\n      <td>30.332</td>\n      <td>9240934</td>\n      <td>820.853030</td>\n    </tr>\n    <tr>\n      <th>2</th>\n      <td>Afghanistan</td>\n      <td>Asia</td>\n      <td>1962</td>\n      <td>31.997</td>\n      <td>10267083</td>\n      <td>853.100710</td>\n    </tr>\n    <tr>\n      <th>3</th>\n      <td>Afghanistan</td>\n      <td>Asia</td>\n      <td>1967</td>\n      <td>34.020</td>\n      <td>11537966</td>\n      <td>836.197138</td>\n    </tr>\n    <tr>\n      <th>4</th>\n      <td>Afghanistan</td>\n      <td>Asia</td>\n      <td>1972</td>\n      <td>36.088</td>\n      <td>13079460</td>\n      <td>739.981106</td>\n    </tr>\n  </tbody>\n</table>\n</div>"
     },
     "metadata": {},
     "execution_count": 8
    }
   ],
   "source": [
    "df.head()\n",
    "# head first five columns"
   ]
  },
  {
   "cell_type": "code",
   "execution_count": 9,
   "metadata": {},
   "outputs": [
    {
     "output_type": "execute_result",
     "data": {
      "text/plain": "       country continent  year  lifeExp       pop   gdpPercap\n1699  Zimbabwe    Africa  1987   62.351   9216418  706.157306\n1700  Zimbabwe    Africa  1992   60.377  10704340  693.420786\n1701  Zimbabwe    Africa  1997   46.809  11404948  792.449960\n1702  Zimbabwe    Africa  2002   39.989  11926563  672.038623\n1703  Zimbabwe    Africa  2007   43.487  12311143  469.709298",
      "text/html": "<div>\n<style scoped>\n    .dataframe tbody tr th:only-of-type {\n        vertical-align: middle;\n    }\n\n    .dataframe tbody tr th {\n        vertical-align: top;\n    }\n\n    .dataframe thead th {\n        text-align: right;\n    }\n</style>\n<table border=\"1\" class=\"dataframe\">\n  <thead>\n    <tr style=\"text-align: right;\">\n      <th></th>\n      <th>country</th>\n      <th>continent</th>\n      <th>year</th>\n      <th>lifeExp</th>\n      <th>pop</th>\n      <th>gdpPercap</th>\n    </tr>\n  </thead>\n  <tbody>\n    <tr>\n      <th>1699</th>\n      <td>Zimbabwe</td>\n      <td>Africa</td>\n      <td>1987</td>\n      <td>62.351</td>\n      <td>9216418</td>\n      <td>706.157306</td>\n    </tr>\n    <tr>\n      <th>1700</th>\n      <td>Zimbabwe</td>\n      <td>Africa</td>\n      <td>1992</td>\n      <td>60.377</td>\n      <td>10704340</td>\n      <td>693.420786</td>\n    </tr>\n    <tr>\n      <th>1701</th>\n      <td>Zimbabwe</td>\n      <td>Africa</td>\n      <td>1997</td>\n      <td>46.809</td>\n      <td>11404948</td>\n      <td>792.449960</td>\n    </tr>\n    <tr>\n      <th>1702</th>\n      <td>Zimbabwe</td>\n      <td>Africa</td>\n      <td>2002</td>\n      <td>39.989</td>\n      <td>11926563</td>\n      <td>672.038623</td>\n    </tr>\n    <tr>\n      <th>1703</th>\n      <td>Zimbabwe</td>\n      <td>Africa</td>\n      <td>2007</td>\n      <td>43.487</td>\n      <td>12311143</td>\n      <td>469.709298</td>\n    </tr>\n  </tbody>\n</table>\n</div>"
     },
     "metadata": {},
     "execution_count": 9
    }
   ],
   "source": [
    "df.tail()\n",
    "# tail gives the last 5 columns"
   ]
  },
  {
   "cell_type": "code",
   "execution_count": 11,
   "metadata": {},
   "outputs": [
    {
     "output_type": "execute_result",
     "data": {
      "text/plain": "Index(['country', 'continent', 'year', 'lifeExp', 'pop', 'gdpPercap'], dtype='object')"
     },
     "metadata": {},
     "execution_count": 11
    }
   ],
   "source": [
    "df.columns\n",
    "# columns give sthe names"
   ]
  },
  {
   "cell_type": "code",
   "execution_count": 12,
   "metadata": {},
   "outputs": [
    {
     "output_type": "execute_result",
     "data": {
      "text/plain": "RangeIndex(start=0, stop=1704, step=1)"
     },
     "metadata": {},
     "execution_count": 12
    }
   ],
   "source": [
    "df.index"
   ]
  },
  {
   "cell_type": "code",
   "execution_count": 13,
   "metadata": {},
   "outputs": [
    {
     "output_type": "execute_result",
     "data": {
      "text/plain": "array([['Afghanistan', 'Asia', 1952, 28.801, 8425333, 779.4453145],\n       ['Afghanistan', 'Asia', 1957, 30.331999999999997, 9240934,\n        820.8530296],\n       ['Afghanistan', 'Asia', 1962, 31.997, 10267083, 853.1007099999999],\n       ...,\n       ['Zimbabwe', 'Africa', 1997, 46.809, 11404948, 792.4499602999999],\n       ['Zimbabwe', 'Africa', 2002, 39.989000000000004, 11926563,\n        672.0386227000001],\n       ['Zimbabwe', 'Africa', 2007, 43.486999999999995, 12311143,\n        469.70929810000007]], dtype=object)"
     },
     "metadata": {},
     "execution_count": 13
    }
   ],
   "source": [
    "df.values\n",
    "## values gives the numpy array"
   ]
  },
  {
   "cell_type": "code",
   "execution_count": 16,
   "metadata": {},
   "outputs": [
    {
     "output_type": "execute_result",
     "data": {
      "text/plain": "array([['Afghanistan', 'Asia', 1952, 28.801, 8425333, 779.4453145]],\n      dtype=object)"
     },
     "metadata": {},
     "execution_count": 16
    }
   ],
   "source": [
    "df.values[[0]]"
   ]
  },
  {
   "cell_type": "code",
   "execution_count": 17,
   "metadata": {},
   "outputs": [
    {
     "output_type": "execute_result",
     "data": {
      "text/plain": "country       object\ncontinent     object\nyear           int64\nlifeExp      float64\npop            int64\ngdpPercap    float64\ndtype: object"
     },
     "metadata": {},
     "execution_count": 17
    }
   ],
   "source": [
    "df.dtypes\n",
    "# dtypes gives the column objects and data type"
   ]
  },
  {
   "cell_type": "code",
   "execution_count": 19,
   "metadata": {},
   "outputs": [
    {
     "output_type": "execute_result",
     "data": {
      "text/plain": "0       Afghanistan\n1       Afghanistan\n2       Afghanistan\n3       Afghanistan\n4       Afghanistan\n           ...     \n1699       Zimbabwe\n1700       Zimbabwe\n1701       Zimbabwe\n1702       Zimbabwe\n1703       Zimbabwe\nName: country, Length: 1704, dtype: object"
     },
     "metadata": {},
     "execution_count": 19
    }
   ],
   "source": [
    "country = df['country']\n",
    "country\n",
    "# this fetches the country field information"
   ]
  },
  {
   "cell_type": "code",
   "execution_count": 21,
   "metadata": {},
   "outputs": [
    {
     "output_type": "execute_result",
     "data": {
      "text/plain": "          country\n0     Afghanistan\n1     Afghanistan\n2     Afghanistan\n3     Afghanistan\n4     Afghanistan\n...           ...\n1699     Zimbabwe\n1700     Zimbabwe\n1701     Zimbabwe\n1702     Zimbabwe\n1703     Zimbabwe\n\n[1704 rows x 1 columns]",
      "text/html": "<div>\n<style scoped>\n    .dataframe tbody tr th:only-of-type {\n        vertical-align: middle;\n    }\n\n    .dataframe tbody tr th {\n        vertical-align: top;\n    }\n\n    .dataframe thead th {\n        text-align: right;\n    }\n</style>\n<table border=\"1\" class=\"dataframe\">\n  <thead>\n    <tr style=\"text-align: right;\">\n      <th></th>\n      <th>country</th>\n    </tr>\n  </thead>\n  <tbody>\n    <tr>\n      <th>0</th>\n      <td>Afghanistan</td>\n    </tr>\n    <tr>\n      <th>1</th>\n      <td>Afghanistan</td>\n    </tr>\n    <tr>\n      <th>2</th>\n      <td>Afghanistan</td>\n    </tr>\n    <tr>\n      <th>3</th>\n      <td>Afghanistan</td>\n    </tr>\n    <tr>\n      <th>4</th>\n      <td>Afghanistan</td>\n    </tr>\n    <tr>\n      <th>...</th>\n      <td>...</td>\n    </tr>\n    <tr>\n      <th>1699</th>\n      <td>Zimbabwe</td>\n    </tr>\n    <tr>\n      <th>1700</th>\n      <td>Zimbabwe</td>\n    </tr>\n    <tr>\n      <th>1701</th>\n      <td>Zimbabwe</td>\n    </tr>\n    <tr>\n      <th>1702</th>\n      <td>Zimbabwe</td>\n    </tr>\n    <tr>\n      <th>1703</th>\n      <td>Zimbabwe</td>\n    </tr>\n  </tbody>\n</table>\n<p>1704 rows × 1 columns</p>\n</div>"
     },
     "metadata": {},
     "execution_count": 21
    }
   ],
   "source": [
    "country = df[['country']]\n",
    "country\n",
    "# lists under lists denotes that we are filtrering some columns\n",
    "## Outer one defines we select things\n",
    "## inner one defines i'm going to select bunch of things"
   ]
  },
  {
   "cell_type": "code",
   "execution_count": 22,
   "metadata": {},
   "outputs": [
    {
     "output_type": "execute_result",
     "data": {
      "text/plain": "     continent  year  lifeExp       pop   gdpPercap\n0         Asia  1952   28.801   8425333  779.445314\n1         Asia  1957   30.332   9240934  820.853030\n2         Asia  1962   31.997  10267083  853.100710\n3         Asia  1967   34.020  11537966  836.197138\n4         Asia  1972   36.088  13079460  739.981106\n...        ...   ...      ...       ...         ...\n1699    Africa  1987   62.351   9216418  706.157306\n1700    Africa  1992   60.377  10704340  693.420786\n1701    Africa  1997   46.809  11404948  792.449960\n1702    Africa  2002   39.989  11926563  672.038623\n1703    Africa  2007   43.487  12311143  469.709298\n\n[1704 rows x 5 columns]",
      "text/html": "<div>\n<style scoped>\n    .dataframe tbody tr th:only-of-type {\n        vertical-align: middle;\n    }\n\n    .dataframe tbody tr th {\n        vertical-align: top;\n    }\n\n    .dataframe thead th {\n        text-align: right;\n    }\n</style>\n<table border=\"1\" class=\"dataframe\">\n  <thead>\n    <tr style=\"text-align: right;\">\n      <th></th>\n      <th>continent</th>\n      <th>year</th>\n      <th>lifeExp</th>\n      <th>pop</th>\n      <th>gdpPercap</th>\n    </tr>\n  </thead>\n  <tbody>\n    <tr>\n      <th>0</th>\n      <td>Asia</td>\n      <td>1952</td>\n      <td>28.801</td>\n      <td>8425333</td>\n      <td>779.445314</td>\n    </tr>\n    <tr>\n      <th>1</th>\n      <td>Asia</td>\n      <td>1957</td>\n      <td>30.332</td>\n      <td>9240934</td>\n      <td>820.853030</td>\n    </tr>\n    <tr>\n      <th>2</th>\n      <td>Asia</td>\n      <td>1962</td>\n      <td>31.997</td>\n      <td>10267083</td>\n      <td>853.100710</td>\n    </tr>\n    <tr>\n      <th>3</th>\n      <td>Asia</td>\n      <td>1967</td>\n      <td>34.020</td>\n      <td>11537966</td>\n      <td>836.197138</td>\n    </tr>\n    <tr>\n      <th>4</th>\n      <td>Asia</td>\n      <td>1972</td>\n      <td>36.088</td>\n      <td>13079460</td>\n      <td>739.981106</td>\n    </tr>\n    <tr>\n      <th>...</th>\n      <td>...</td>\n      <td>...</td>\n      <td>...</td>\n      <td>...</td>\n      <td>...</td>\n    </tr>\n    <tr>\n      <th>1699</th>\n      <td>Africa</td>\n      <td>1987</td>\n      <td>62.351</td>\n      <td>9216418</td>\n      <td>706.157306</td>\n    </tr>\n    <tr>\n      <th>1700</th>\n      <td>Africa</td>\n      <td>1992</td>\n      <td>60.377</td>\n      <td>10704340</td>\n      <td>693.420786</td>\n    </tr>\n    <tr>\n      <th>1701</th>\n      <td>Africa</td>\n      <td>1997</td>\n      <td>46.809</td>\n      <td>11404948</td>\n      <td>792.449960</td>\n    </tr>\n    <tr>\n      <th>1702</th>\n      <td>Africa</td>\n      <td>2002</td>\n      <td>39.989</td>\n      <td>11926563</td>\n      <td>672.038623</td>\n    </tr>\n    <tr>\n      <th>1703</th>\n      <td>Africa</td>\n      <td>2007</td>\n      <td>43.487</td>\n      <td>12311143</td>\n      <td>469.709298</td>\n    </tr>\n  </tbody>\n</table>\n<p>1704 rows × 5 columns</p>\n</div>"
     },
     "metadata": {},
     "execution_count": 22
    }
   ],
   "source": [
    "df.drop(['country'], axis ='columns')\n",
    "## axis = 'columns' defines that we are dropping only column."
   ]
  },
  {
   "cell_type": "code",
   "execution_count": 23,
   "metadata": {},
   "outputs": [
    {
     "output_type": "execute_result",
     "data": {
      "text/plain": "       country continent  year  lifeExp       pop   gdpPercap\n0  Afghanistan      Asia  1952   28.801   8425333  779.445314\n1  Afghanistan      Asia  1957   30.332   9240934  820.853030\n2  Afghanistan      Asia  1962   31.997  10267083  853.100710\n3  Afghanistan      Asia  1967   34.020  11537966  836.197138\n4  Afghanistan      Asia  1972   36.088  13079460  739.981106",
      "text/html": "<div>\n<style scoped>\n    .dataframe tbody tr th:only-of-type {\n        vertical-align: middle;\n    }\n\n    .dataframe tbody tr th {\n        vertical-align: top;\n    }\n\n    .dataframe thead th {\n        text-align: right;\n    }\n</style>\n<table border=\"1\" class=\"dataframe\">\n  <thead>\n    <tr style=\"text-align: right;\">\n      <th></th>\n      <th>country</th>\n      <th>continent</th>\n      <th>year</th>\n      <th>lifeExp</th>\n      <th>pop</th>\n      <th>gdpPercap</th>\n    </tr>\n  </thead>\n  <tbody>\n    <tr>\n      <th>0</th>\n      <td>Afghanistan</td>\n      <td>Asia</td>\n      <td>1952</td>\n      <td>28.801</td>\n      <td>8425333</td>\n      <td>779.445314</td>\n    </tr>\n    <tr>\n      <th>1</th>\n      <td>Afghanistan</td>\n      <td>Asia</td>\n      <td>1957</td>\n      <td>30.332</td>\n      <td>9240934</td>\n      <td>820.853030</td>\n    </tr>\n    <tr>\n      <th>2</th>\n      <td>Afghanistan</td>\n      <td>Asia</td>\n      <td>1962</td>\n      <td>31.997</td>\n      <td>10267083</td>\n      <td>853.100710</td>\n    </tr>\n    <tr>\n      <th>3</th>\n      <td>Afghanistan</td>\n      <td>Asia</td>\n      <td>1967</td>\n      <td>34.020</td>\n      <td>11537966</td>\n      <td>836.197138</td>\n    </tr>\n    <tr>\n      <th>4</th>\n      <td>Afghanistan</td>\n      <td>Asia</td>\n      <td>1972</td>\n      <td>36.088</td>\n      <td>13079460</td>\n      <td>739.981106</td>\n    </tr>\n  </tbody>\n</table>\n</div>"
     },
     "metadata": {},
     "execution_count": 23
    }
   ],
   "source": [
    "df.head()"
   ]
  },
  {
   "cell_type": "code",
   "execution_count": 28,
   "metadata": {},
   "outputs": [],
   "source": [
    "df.drop(['country'], axis ='columns', inplace=True)\n",
    "##inplace = 'True' means it commits the transaction without making any copy.print If we want a copy we can assign the drop script to variable without using inplace."
   ]
  },
  {
   "cell_type": "code",
   "execution_count": 29,
   "metadata": {},
   "outputs": [
    {
     "output_type": "execute_result",
     "data": {
      "text/plain": "  continent  year  lifeExp       pop   gdpPercap\n0      Asia  1952   28.801   8425333  779.445314\n1      Asia  1957   30.332   9240934  820.853030\n2      Asia  1962   31.997  10267083  853.100710\n3      Asia  1967   34.020  11537966  836.197138\n4      Asia  1972   36.088  13079460  739.981106",
      "text/html": "<div>\n<style scoped>\n    .dataframe tbody tr th:only-of-type {\n        vertical-align: middle;\n    }\n\n    .dataframe tbody tr th {\n        vertical-align: top;\n    }\n\n    .dataframe thead th {\n        text-align: right;\n    }\n</style>\n<table border=\"1\" class=\"dataframe\">\n  <thead>\n    <tr style=\"text-align: right;\">\n      <th></th>\n      <th>continent</th>\n      <th>year</th>\n      <th>lifeExp</th>\n      <th>pop</th>\n      <th>gdpPercap</th>\n    </tr>\n  </thead>\n  <tbody>\n    <tr>\n      <th>0</th>\n      <td>Asia</td>\n      <td>1952</td>\n      <td>28.801</td>\n      <td>8425333</td>\n      <td>779.445314</td>\n    </tr>\n    <tr>\n      <th>1</th>\n      <td>Asia</td>\n      <td>1957</td>\n      <td>30.332</td>\n      <td>9240934</td>\n      <td>820.853030</td>\n    </tr>\n    <tr>\n      <th>2</th>\n      <td>Asia</td>\n      <td>1962</td>\n      <td>31.997</td>\n      <td>10267083</td>\n      <td>853.100710</td>\n    </tr>\n    <tr>\n      <th>3</th>\n      <td>Asia</td>\n      <td>1967</td>\n      <td>34.020</td>\n      <td>11537966</td>\n      <td>836.197138</td>\n    </tr>\n    <tr>\n      <th>4</th>\n      <td>Asia</td>\n      <td>1972</td>\n      <td>36.088</td>\n      <td>13079460</td>\n      <td>739.981106</td>\n    </tr>\n  </tbody>\n</table>\n</div>"
     },
     "metadata": {},
     "execution_count": 29
    }
   ],
   "source": [
    "df.head()"
   ]
  },
  {
   "cell_type": "code",
   "execution_count": 34,
   "metadata": {},
   "outputs": [
    {
     "output_type": "execute_result",
     "data": {
      "text/plain": "     continent  year  lifeExp       pop   gdpPercap\n0         Asia  1952   28.801   8425333  779.445314\n1         Asia  1957   30.332   9240934  820.853030\n1703    Africa  2007   43.487  12311143  469.709298",
      "text/html": "<div>\n<style scoped>\n    .dataframe tbody tr th:only-of-type {\n        vertical-align: middle;\n    }\n\n    .dataframe tbody tr th {\n        vertical-align: top;\n    }\n\n    .dataframe thead th {\n        text-align: right;\n    }\n</style>\n<table border=\"1\" class=\"dataframe\">\n  <thead>\n    <tr style=\"text-align: right;\">\n      <th></th>\n      <th>continent</th>\n      <th>year</th>\n      <th>lifeExp</th>\n      <th>pop</th>\n      <th>gdpPercap</th>\n    </tr>\n  </thead>\n  <tbody>\n    <tr>\n      <th>0</th>\n      <td>Asia</td>\n      <td>1952</td>\n      <td>28.801</td>\n      <td>8425333</td>\n      <td>779.445314</td>\n    </tr>\n    <tr>\n      <th>1</th>\n      <td>Asia</td>\n      <td>1957</td>\n      <td>30.332</td>\n      <td>9240934</td>\n      <td>820.853030</td>\n    </tr>\n    <tr>\n      <th>1703</th>\n      <td>Africa</td>\n      <td>2007</td>\n      <td>43.487</td>\n      <td>12311143</td>\n      <td>469.709298</td>\n    </tr>\n  </tbody>\n</table>\n</div>"
     },
     "metadata": {},
     "execution_count": 34
    }
   ],
   "source": [
    "df.loc[[0,1]]\n",
    "## loc defines the give output that has index 0 and 1\n",
    "## index won't be in negative \n",
    "## loc is matching for variable"
   ]
  },
  {
   "cell_type": "code",
   "execution_count": 35,
   "metadata": {},
   "outputs": [
    {
     "output_type": "execute_result",
     "data": {
      "text/plain": "     continent  year  lifeExp       pop   gdpPercap\n0         Asia  1952   28.801   8425333  779.445314\n1         Asia  1957   30.332   9240934  820.853030\n1703    Africa  2007   43.487  12311143  469.709298",
      "text/html": "<div>\n<style scoped>\n    .dataframe tbody tr th:only-of-type {\n        vertical-align: middle;\n    }\n\n    .dataframe tbody tr th {\n        vertical-align: top;\n    }\n\n    .dataframe thead th {\n        text-align: right;\n    }\n</style>\n<table border=\"1\" class=\"dataframe\">\n  <thead>\n    <tr style=\"text-align: right;\">\n      <th></th>\n      <th>continent</th>\n      <th>year</th>\n      <th>lifeExp</th>\n      <th>pop</th>\n      <th>gdpPercap</th>\n    </tr>\n  </thead>\n  <tbody>\n    <tr>\n      <th>0</th>\n      <td>Asia</td>\n      <td>1952</td>\n      <td>28.801</td>\n      <td>8425333</td>\n      <td>779.445314</td>\n    </tr>\n    <tr>\n      <th>1</th>\n      <td>Asia</td>\n      <td>1957</td>\n      <td>30.332</td>\n      <td>9240934</td>\n      <td>820.853030</td>\n    </tr>\n    <tr>\n      <th>1703</th>\n      <td>Africa</td>\n      <td>2007</td>\n      <td>43.487</td>\n      <td>12311143</td>\n      <td>469.709298</td>\n    </tr>\n  </tbody>\n</table>\n</div>"
     },
     "metadata": {},
     "execution_count": 35
    }
   ],
   "source": [
    "df.iloc[[0,1,-1]]\n",
    "## i loc is used to last column e\n",
    "## iloc is matching for an index"
   ]
  },
  {
   "cell_type": "code",
   "execution_count": 44,
   "metadata": {},
   "outputs": [
    {
     "output_type": "execute_result",
     "data": {
      "text/plain": "      year       pop\n0     1952   8425333\n1     1957   9240934\n2     1962  10267083\n3     1967  11537966\n4     1972  13079460\n...    ...       ...\n1699  1987   9216418\n1700  1992  10704340\n1701  1997  11404948\n1702  2002  11926563\n1703  2007  12311143\n\n[1704 rows x 2 columns]",
      "text/html": "<div>\n<style scoped>\n    .dataframe tbody tr th:only-of-type {\n        vertical-align: middle;\n    }\n\n    .dataframe tbody tr th {\n        vertical-align: top;\n    }\n\n    .dataframe thead th {\n        text-align: right;\n    }\n</style>\n<table border=\"1\" class=\"dataframe\">\n  <thead>\n    <tr style=\"text-align: right;\">\n      <th></th>\n      <th>year</th>\n      <th>pop</th>\n    </tr>\n  </thead>\n  <tbody>\n    <tr>\n      <th>0</th>\n      <td>1952</td>\n      <td>8425333</td>\n    </tr>\n    <tr>\n      <th>1</th>\n      <td>1957</td>\n      <td>9240934</td>\n    </tr>\n    <tr>\n      <th>2</th>\n      <td>1962</td>\n      <td>10267083</td>\n    </tr>\n    <tr>\n      <th>3</th>\n      <td>1967</td>\n      <td>11537966</td>\n    </tr>\n    <tr>\n      <th>4</th>\n      <td>1972</td>\n      <td>13079460</td>\n    </tr>\n    <tr>\n      <th>...</th>\n      <td>...</td>\n      <td>...</td>\n    </tr>\n    <tr>\n      <th>1699</th>\n      <td>1987</td>\n      <td>9216418</td>\n    </tr>\n    <tr>\n      <th>1700</th>\n      <td>1992</td>\n      <td>10704340</td>\n    </tr>\n    <tr>\n      <th>1701</th>\n      <td>1997</td>\n      <td>11404948</td>\n    </tr>\n    <tr>\n      <th>1702</th>\n      <td>2002</td>\n      <td>11926563</td>\n    </tr>\n    <tr>\n      <th>1703</th>\n      <td>2007</td>\n      <td>12311143</td>\n    </tr>\n  </tbody>\n</table>\n<p>1704 rows × 2 columns</p>\n</div>"
     },
     "metadata": {},
     "execution_count": 44
    }
   ],
   "source": [
    "subset= df.loc[:,['year' ,'pop']]\n",
    "subset\n",
    "## : defines all the rows\n",
    "## 3 defines 3rd row "
   ]
  },
  {
   "cell_type": "code",
   "execution_count": 47,
   "metadata": {},
   "outputs": [
    {
     "output_type": "execute_result",
     "data": {
      "text/plain": "      year       pop\n0     1952   8425333\n1     1957   9240934\n2     1962  10267083\n3     1967  11537966\n4     1972  13079460\n...    ...       ...\n1699  1987   9216418\n1700  1992  10704340\n1701  1997  11404948\n1702  2002  11926563\n1703  2007  12311143\n\n[1704 rows x 2 columns]",
      "text/html": "<div>\n<style scoped>\n    .dataframe tbody tr th:only-of-type {\n        vertical-align: middle;\n    }\n\n    .dataframe tbody tr th {\n        vertical-align: top;\n    }\n\n    .dataframe thead th {\n        text-align: right;\n    }\n</style>\n<table border=\"1\" class=\"dataframe\">\n  <thead>\n    <tr style=\"text-align: right;\">\n      <th></th>\n      <th>year</th>\n      <th>pop</th>\n    </tr>\n  </thead>\n  <tbody>\n    <tr>\n      <th>0</th>\n      <td>1952</td>\n      <td>8425333</td>\n    </tr>\n    <tr>\n      <th>1</th>\n      <td>1957</td>\n      <td>9240934</td>\n    </tr>\n    <tr>\n      <th>2</th>\n      <td>1962</td>\n      <td>10267083</td>\n    </tr>\n    <tr>\n      <th>3</th>\n      <td>1967</td>\n      <td>11537966</td>\n    </tr>\n    <tr>\n      <th>4</th>\n      <td>1972</td>\n      <td>13079460</td>\n    </tr>\n    <tr>\n      <th>...</th>\n      <td>...</td>\n      <td>...</td>\n    </tr>\n    <tr>\n      <th>1699</th>\n      <td>1987</td>\n      <td>9216418</td>\n    </tr>\n    <tr>\n      <th>1700</th>\n      <td>1992</td>\n      <td>10704340</td>\n    </tr>\n    <tr>\n      <th>1701</th>\n      <td>1997</td>\n      <td>11404948</td>\n    </tr>\n    <tr>\n      <th>1702</th>\n      <td>2002</td>\n      <td>11926563</td>\n    </tr>\n    <tr>\n      <th>1703</th>\n      <td>2007</td>\n      <td>12311143</td>\n    </tr>\n  </tbody>\n</table>\n<p>1704 rows × 2 columns</p>\n</div>"
     },
     "metadata": {},
     "execution_count": 47
    }
   ],
   "source": [
    "subset = df.iloc[:,[1,3]]\n",
    "subset\n",
    "## In iloc column needs to be defined by index\n",
    "## use loc or iloc when we want to subset rows and Columns"
   ]
  },
  {
   "cell_type": "code",
   "execution_count": 48,
   "metadata": {},
   "outputs": [
    {
     "output_type": "execute_result",
     "data": {
      "text/plain": "0         Asia\n1         Asia\n2         Asia\n3         Asia\n4         Asia\n         ...  \n1699    Africa\n1700    Africa\n1701    Africa\n1702    Africa\n1703    Africa\nName: continent, Length: 1704, dtype: object"
     },
     "metadata": {},
     "execution_count": 48
    }
   ],
   "source": [
    "subset = df['continent']\n",
    "subset"
   ]
  },
  {
   "cell_type": "code",
   "execution_count": 55,
   "metadata": {},
   "outputs": [
    {
     "output_type": "execute_result",
     "data": {
      "text/plain": "     continent  year  lifeExp       pop    gdpPercap\n0         Asia  1952   28.801   8425333   779.445314\n1         Asia  1957   30.332   9240934   820.853030\n2         Asia  1962   31.997  10267083   853.100710\n3         Asia  1967   34.020  11537966   836.197138\n4         Asia  1972   36.088  13079460   739.981106\n...        ...   ...      ...       ...          ...\n1675      Asia  1987   52.922  11219340  1971.741538\n1676      Asia  1992   55.599  13367997  1879.496673\n1677      Asia  1997   58.020  15826497  2117.484526\n1678      Asia  2002   60.308  18701257  2234.820827\n1679      Asia  2007   62.698  22211743  2280.769906\n\n[396 rows x 5 columns]",
      "text/html": "<div>\n<style scoped>\n    .dataframe tbody tr th:only-of-type {\n        vertical-align: middle;\n    }\n\n    .dataframe tbody tr th {\n        vertical-align: top;\n    }\n\n    .dataframe thead th {\n        text-align: right;\n    }\n</style>\n<table border=\"1\" class=\"dataframe\">\n  <thead>\n    <tr style=\"text-align: right;\">\n      <th></th>\n      <th>continent</th>\n      <th>year</th>\n      <th>lifeExp</th>\n      <th>pop</th>\n      <th>gdpPercap</th>\n    </tr>\n  </thead>\n  <tbody>\n    <tr>\n      <th>0</th>\n      <td>Asia</td>\n      <td>1952</td>\n      <td>28.801</td>\n      <td>8425333</td>\n      <td>779.445314</td>\n    </tr>\n    <tr>\n      <th>1</th>\n      <td>Asia</td>\n      <td>1957</td>\n      <td>30.332</td>\n      <td>9240934</td>\n      <td>820.853030</td>\n    </tr>\n    <tr>\n      <th>2</th>\n      <td>Asia</td>\n      <td>1962</td>\n      <td>31.997</td>\n      <td>10267083</td>\n      <td>853.100710</td>\n    </tr>\n    <tr>\n      <th>3</th>\n      <td>Asia</td>\n      <td>1967</td>\n      <td>34.020</td>\n      <td>11537966</td>\n      <td>836.197138</td>\n    </tr>\n    <tr>\n      <th>4</th>\n      <td>Asia</td>\n      <td>1972</td>\n      <td>36.088</td>\n      <td>13079460</td>\n      <td>739.981106</td>\n    </tr>\n    <tr>\n      <th>...</th>\n      <td>...</td>\n      <td>...</td>\n      <td>...</td>\n      <td>...</td>\n      <td>...</td>\n    </tr>\n    <tr>\n      <th>1675</th>\n      <td>Asia</td>\n      <td>1987</td>\n      <td>52.922</td>\n      <td>11219340</td>\n      <td>1971.741538</td>\n    </tr>\n    <tr>\n      <th>1676</th>\n      <td>Asia</td>\n      <td>1992</td>\n      <td>55.599</td>\n      <td>13367997</td>\n      <td>1879.496673</td>\n    </tr>\n    <tr>\n      <th>1677</th>\n      <td>Asia</td>\n      <td>1997</td>\n      <td>58.020</td>\n      <td>15826497</td>\n      <td>2117.484526</td>\n    </tr>\n    <tr>\n      <th>1678</th>\n      <td>Asia</td>\n      <td>2002</td>\n      <td>60.308</td>\n      <td>18701257</td>\n      <td>2234.820827</td>\n    </tr>\n    <tr>\n      <th>1679</th>\n      <td>Asia</td>\n      <td>2007</td>\n      <td>62.698</td>\n      <td>22211743</td>\n      <td>2280.769906</td>\n    </tr>\n  </tbody>\n</table>\n<p>396 rows × 5 columns</p>\n</div>"
     },
     "metadata": {},
     "execution_count": 55
    }
   ],
   "source": [
    "subset = df.loc[(df['continent']=='Asia')]\n",
    "subset"
   ]
  },
  {
   "cell_type": "code",
   "execution_count": 62,
   "metadata": {},
   "outputs": [
    {
     "output_type": "execute_result",
     "data": {
      "text/plain": "     continent  year  lifeExp        pop      gdpPercap\n0         Asia  1952   28.801    8425333     779.445314\n84        Asia  1952   50.939     120447    9867.084765\n96        Asia  1952   37.484   46886859     684.244172\n216       Asia  1952   39.417    4693836     368.469286\n288       Asia  1952   44.000  556263527     400.448611\n660       Asia  1952   60.960    2125900    3054.421209\n696       Asia  1952   37.373  372000000     546.565749\n708       Asia  1952   37.468   82052000     749.681655\n720       Asia  1952   44.869   17272000    3035.326002\n732       Asia  1952   45.320    5441766    4129.766056\n756       Asia  1952   65.390    1620914    4086.522128\n792       Asia  1952   63.030   86459025    3216.956347\n804       Asia  1952   43.158     607914    1546.907807\n828       Asia  1952   50.056    8865488    1088.277758\n840       Asia  1952   47.453   20947571    1030.592226\n852       Asia  1952   55.565     160000  108382.352900\n864       Asia  1952   55.928    1439529    4834.804067\n936       Asia  1952   48.463    6748378    1831.132894\n996       Asia  1952   42.244     800663     786.566857\n1044      Asia  1952   36.319   20092996     331.000000\n1068      Asia  1952   36.157    9182536     545.865723\n1152      Asia  1952   37.578     507833    1828.230307\n1164      Asia  1952   43.436   41346560     684.597144\n1212      Asia  1952   47.752   22438691    1272.880995\n1308      Asia  1952   39.875    4005677    6459.554823\n1356      Asia  1952   60.396    1127000    2315.138227\n1428      Asia  1952   57.593    7982342    1083.532030\n1488      Asia  1952   45.883    3661549    1643.485354\n1500      Asia  1952   58.500    8550362    1206.947913\n1524      Asia  1952   50.848   21289402     757.797418\n1644      Asia  1952   40.412   26246839     605.066492\n1656      Asia  1952   43.160    1030585    1515.592329\n1668      Asia  1952   32.548    4963829     781.717576",
      "text/html": "<div>\n<style scoped>\n    .dataframe tbody tr th:only-of-type {\n        vertical-align: middle;\n    }\n\n    .dataframe tbody tr th {\n        vertical-align: top;\n    }\n\n    .dataframe thead th {\n        text-align: right;\n    }\n</style>\n<table border=\"1\" class=\"dataframe\">\n  <thead>\n    <tr style=\"text-align: right;\">\n      <th></th>\n      <th>continent</th>\n      <th>year</th>\n      <th>lifeExp</th>\n      <th>pop</th>\n      <th>gdpPercap</th>\n    </tr>\n  </thead>\n  <tbody>\n    <tr>\n      <th>0</th>\n      <td>Asia</td>\n      <td>1952</td>\n      <td>28.801</td>\n      <td>8425333</td>\n      <td>779.445314</td>\n    </tr>\n    <tr>\n      <th>84</th>\n      <td>Asia</td>\n      <td>1952</td>\n      <td>50.939</td>\n      <td>120447</td>\n      <td>9867.084765</td>\n    </tr>\n    <tr>\n      <th>96</th>\n      <td>Asia</td>\n      <td>1952</td>\n      <td>37.484</td>\n      <td>46886859</td>\n      <td>684.244172</td>\n    </tr>\n    <tr>\n      <th>216</th>\n      <td>Asia</td>\n      <td>1952</td>\n      <td>39.417</td>\n      <td>4693836</td>\n      <td>368.469286</td>\n    </tr>\n    <tr>\n      <th>288</th>\n      <td>Asia</td>\n      <td>1952</td>\n      <td>44.000</td>\n      <td>556263527</td>\n      <td>400.448611</td>\n    </tr>\n    <tr>\n      <th>660</th>\n      <td>Asia</td>\n      <td>1952</td>\n      <td>60.960</td>\n      <td>2125900</td>\n      <td>3054.421209</td>\n    </tr>\n    <tr>\n      <th>696</th>\n      <td>Asia</td>\n      <td>1952</td>\n      <td>37.373</td>\n      <td>372000000</td>\n      <td>546.565749</td>\n    </tr>\n    <tr>\n      <th>708</th>\n      <td>Asia</td>\n      <td>1952</td>\n      <td>37.468</td>\n      <td>82052000</td>\n      <td>749.681655</td>\n    </tr>\n    <tr>\n      <th>720</th>\n      <td>Asia</td>\n      <td>1952</td>\n      <td>44.869</td>\n      <td>17272000</td>\n      <td>3035.326002</td>\n    </tr>\n    <tr>\n      <th>732</th>\n      <td>Asia</td>\n      <td>1952</td>\n      <td>45.320</td>\n      <td>5441766</td>\n      <td>4129.766056</td>\n    </tr>\n    <tr>\n      <th>756</th>\n      <td>Asia</td>\n      <td>1952</td>\n      <td>65.390</td>\n      <td>1620914</td>\n      <td>4086.522128</td>\n    </tr>\n    <tr>\n      <th>792</th>\n      <td>Asia</td>\n      <td>1952</td>\n      <td>63.030</td>\n      <td>86459025</td>\n      <td>3216.956347</td>\n    </tr>\n    <tr>\n      <th>804</th>\n      <td>Asia</td>\n      <td>1952</td>\n      <td>43.158</td>\n      <td>607914</td>\n      <td>1546.907807</td>\n    </tr>\n    <tr>\n      <th>828</th>\n      <td>Asia</td>\n      <td>1952</td>\n      <td>50.056</td>\n      <td>8865488</td>\n      <td>1088.277758</td>\n    </tr>\n    <tr>\n      <th>840</th>\n      <td>Asia</td>\n      <td>1952</td>\n      <td>47.453</td>\n      <td>20947571</td>\n      <td>1030.592226</td>\n    </tr>\n    <tr>\n      <th>852</th>\n      <td>Asia</td>\n      <td>1952</td>\n      <td>55.565</td>\n      <td>160000</td>\n      <td>108382.352900</td>\n    </tr>\n    <tr>\n      <th>864</th>\n      <td>Asia</td>\n      <td>1952</td>\n      <td>55.928</td>\n      <td>1439529</td>\n      <td>4834.804067</td>\n    </tr>\n    <tr>\n      <th>936</th>\n      <td>Asia</td>\n      <td>1952</td>\n      <td>48.463</td>\n      <td>6748378</td>\n      <td>1831.132894</td>\n    </tr>\n    <tr>\n      <th>996</th>\n      <td>Asia</td>\n      <td>1952</td>\n      <td>42.244</td>\n      <td>800663</td>\n      <td>786.566857</td>\n    </tr>\n    <tr>\n      <th>1044</th>\n      <td>Asia</td>\n      <td>1952</td>\n      <td>36.319</td>\n      <td>20092996</td>\n      <td>331.000000</td>\n    </tr>\n    <tr>\n      <th>1068</th>\n      <td>Asia</td>\n      <td>1952</td>\n      <td>36.157</td>\n      <td>9182536</td>\n      <td>545.865723</td>\n    </tr>\n    <tr>\n      <th>1152</th>\n      <td>Asia</td>\n      <td>1952</td>\n      <td>37.578</td>\n      <td>507833</td>\n      <td>1828.230307</td>\n    </tr>\n    <tr>\n      <th>1164</th>\n      <td>Asia</td>\n      <td>1952</td>\n      <td>43.436</td>\n      <td>41346560</td>\n      <td>684.597144</td>\n    </tr>\n    <tr>\n      <th>1212</th>\n      <td>Asia</td>\n      <td>1952</td>\n      <td>47.752</td>\n      <td>22438691</td>\n      <td>1272.880995</td>\n    </tr>\n    <tr>\n      <th>1308</th>\n      <td>Asia</td>\n      <td>1952</td>\n      <td>39.875</td>\n      <td>4005677</td>\n      <td>6459.554823</td>\n    </tr>\n    <tr>\n      <th>1356</th>\n      <td>Asia</td>\n      <td>1952</td>\n      <td>60.396</td>\n      <td>1127000</td>\n      <td>2315.138227</td>\n    </tr>\n    <tr>\n      <th>1428</th>\n      <td>Asia</td>\n      <td>1952</td>\n      <td>57.593</td>\n      <td>7982342</td>\n      <td>1083.532030</td>\n    </tr>\n    <tr>\n      <th>1488</th>\n      <td>Asia</td>\n      <td>1952</td>\n      <td>45.883</td>\n      <td>3661549</td>\n      <td>1643.485354</td>\n    </tr>\n    <tr>\n      <th>1500</th>\n      <td>Asia</td>\n      <td>1952</td>\n      <td>58.500</td>\n      <td>8550362</td>\n      <td>1206.947913</td>\n    </tr>\n    <tr>\n      <th>1524</th>\n      <td>Asia</td>\n      <td>1952</td>\n      <td>50.848</td>\n      <td>21289402</td>\n      <td>757.797418</td>\n    </tr>\n    <tr>\n      <th>1644</th>\n      <td>Asia</td>\n      <td>1952</td>\n      <td>40.412</td>\n      <td>26246839</td>\n      <td>605.066492</td>\n    </tr>\n    <tr>\n      <th>1656</th>\n      <td>Asia</td>\n      <td>1952</td>\n      <td>43.160</td>\n      <td>1030585</td>\n      <td>1515.592329</td>\n    </tr>\n    <tr>\n      <th>1668</th>\n      <td>Asia</td>\n      <td>1952</td>\n      <td>32.548</td>\n      <td>4963829</td>\n      <td>781.717576</td>\n    </tr>\n  </tbody>\n</table>\n</div>"
     },
     "metadata": {},
     "execution_count": 62
    }
   ],
   "source": [
    "continent=df.loc[(df['continent']=='Asia') & (df['year']==1952)]\n",
    "continent\n",
    "##Loc or Ioc is basically for filtering ROWS AND COLUMNS"
   ]
  },
  {
   "cell_type": "code",
   "execution_count": 63,
   "metadata": {},
   "outputs": [
    {
     "output_type": "execute_result",
     "data": {
      "text/plain": "<pandas.core.groupby.generic.DataFrameGroupBy object at 0x0DD30370>"
     },
     "metadata": {},
     "execution_count": 63
    }
   ],
   "source": [
    "  df.groupby(['year'])[]"
   ]
  },
  {
   "cell_type": "code",
   "execution_count": 65,
   "metadata": {},
   "outputs": [],
   "source": [
    "import numpy as Np "
   ]
  },
  {
   "cell_type": "code",
   "execution_count": 67,
   "metadata": {},
   "outputs": [
    {
     "output_type": "execute_result",
     "data": {
      "text/plain": "year\n1952    49.057620\n1957    51.507401\n1962    53.609249\n1967    55.678290\n1972    57.647386\n1977    59.570157\n1982    61.533197\n1987    63.212613\n1992    64.160338\n1997    65.014676\n2002    65.694923\n2007    67.007423\nName: lifeExp, dtype: float64"
     },
     "metadata": {},
     "execution_count": 67
    }
   ],
   "source": [
    "df.groupby(['year'])['lifeExp'].mean()\n",
    "##groupby needs a some value column to calculate."
   ]
  },
  {
   "cell_type": "code",
   "execution_count": 74,
   "metadata": {},
   "outputs": [
    {
     "output_type": "execute_result",
     "data": {
      "text/plain": "year\n1952    49.057620\n1957    51.507401\n1962    53.609249\n1967    55.678290\n1972    57.647386\n1977    59.570157\n1982    61.533197\n1987    63.212613\n1992    64.160338\n1997    65.014676\n2002    65.694923\n2007    67.007423\nName: lifeExp, dtype: float64"
     },
     "metadata": {},
     "execution_count": 74
    }
   ],
   "source": [
    "df.groupby(['year'])['lifeExp'].agg(Np.mean)\n",
    "### we can use numpy library to calculate mean/std"
   ]
  },
  {
   "cell_type": "code",
   "execution_count": 79,
   "metadata": {},
   "outputs": [
    {
     "output_type": "execute_result",
     "data": {
      "text/plain": "    year continent    lifeExp     gdpPercap\n0   1952    Africa  39.135500   1252.572466\n1   1952  Americas  53.279840   4079.062552\n2   1952      Asia  46.314394   5195.484004\n3   1952    Europe  64.408500   5661.057435\n4   1952   Oceania  69.255000  10298.085650\n5   1957    Africa  41.266346   1385.236062\n6   1957  Americas  55.960280   4616.043733\n7   1957      Asia  49.318544   5787.732940\n8   1957    Europe  66.703067   6963.012816\n9   1957   Oceania  70.295000  11598.522455\n10  1962    Africa  43.319442   1598.078825\n11  1962  Americas  58.398760   4901.541870\n12  1962      Asia  51.563223   5729.369625\n13  1962    Europe  68.539233   8365.486814\n14  1962   Oceania  71.085000  12696.452430\n15  1967    Africa  45.334538   2050.363801\n16  1967  Americas  60.410920   5668.253496\n17  1967      Asia  54.663640   5971.173374\n18  1967    Europe  69.737600  10143.823757\n19  1967   Oceania  71.310000  14495.021790\n20  1972    Africa  47.450942   2339.615674\n21  1972  Americas  62.394920   6491.334139\n22  1972      Asia  57.319269   8187.468699\n23  1972    Europe  70.775033  12479.575246\n24  1972   Oceania  71.910000  16417.333380\n25  1977    Africa  49.580423   2585.938508\n26  1977  Americas  64.391560   7352.007126\n27  1977      Asia  59.610556   7791.314020\n28  1977    Europe  71.937767  14283.979110\n29  1977   Oceania  72.855000  17283.957605\n30  1982    Africa  51.592865   2481.592960\n31  1982  Americas  66.228840   7506.737088\n32  1982      Asia  62.617939   7434.135157\n33  1982    Europe  72.806400  15617.896551\n34  1982   Oceania  74.290000  18554.709840\n35  1987    Africa  53.344788   2282.668991\n36  1987  Americas  68.090720   7793.400261\n37  1987      Asia  64.851182   7608.226508\n38  1987    Europe  73.642167  17214.310727\n39  1987   Oceania  75.320000  20448.040160\n40  1992    Africa  53.629577   2281.810333\n41  1992  Americas  69.568360   8044.934406\n42  1992      Asia  66.537212   8639.690248\n43  1992    Europe  74.440100  17061.568084\n44  1992   Oceania  76.945000  20894.045885\n45  1997    Africa  53.598269   2378.759555\n46  1997  Americas  71.150480   8889.300863\n47  1997      Asia  68.020515   9834.093295\n48  1997    Europe  75.505167  19076.781802\n49  1997   Oceania  78.190000  24024.175170\n50  2002    Africa  53.325231   2599.385159\n51  2002  Americas  72.422040   9287.677107\n52  2002      Asia  69.233879  10174.090397\n53  2002    Europe  76.700600  21711.732422\n54  2002   Oceania  79.740000  26938.778040\n55  2007    Africa  54.806038   3089.032605\n56  2007  Americas  73.608120  11003.031625\n57  2007      Asia  70.728485  12473.026870\n58  2007    Europe  77.648600  25054.481636\n59  2007   Oceania  80.719500  29810.188275",
      "text/html": "<div>\n<style scoped>\n    .dataframe tbody tr th:only-of-type {\n        vertical-align: middle;\n    }\n\n    .dataframe tbody tr th {\n        vertical-align: top;\n    }\n\n    .dataframe thead th {\n        text-align: right;\n    }\n</style>\n<table border=\"1\" class=\"dataframe\">\n  <thead>\n    <tr style=\"text-align: right;\">\n      <th></th>\n      <th>year</th>\n      <th>continent</th>\n      <th>lifeExp</th>\n      <th>gdpPercap</th>\n    </tr>\n  </thead>\n  <tbody>\n    <tr>\n      <th>0</th>\n      <td>1952</td>\n      <td>Africa</td>\n      <td>39.135500</td>\n      <td>1252.572466</td>\n    </tr>\n    <tr>\n      <th>1</th>\n      <td>1952</td>\n      <td>Americas</td>\n      <td>53.279840</td>\n      <td>4079.062552</td>\n    </tr>\n    <tr>\n      <th>2</th>\n      <td>1952</td>\n      <td>Asia</td>\n      <td>46.314394</td>\n      <td>5195.484004</td>\n    </tr>\n    <tr>\n      <th>3</th>\n      <td>1952</td>\n      <td>Europe</td>\n      <td>64.408500</td>\n      <td>5661.057435</td>\n    </tr>\n    <tr>\n      <th>4</th>\n      <td>1952</td>\n      <td>Oceania</td>\n      <td>69.255000</td>\n      <td>10298.085650</td>\n    </tr>\n    <tr>\n      <th>5</th>\n      <td>1957</td>\n      <td>Africa</td>\n      <td>41.266346</td>\n      <td>1385.236062</td>\n    </tr>\n    <tr>\n      <th>6</th>\n      <td>1957</td>\n      <td>Americas</td>\n      <td>55.960280</td>\n      <td>4616.043733</td>\n    </tr>\n    <tr>\n      <th>7</th>\n      <td>1957</td>\n      <td>Asia</td>\n      <td>49.318544</td>\n      <td>5787.732940</td>\n    </tr>\n    <tr>\n      <th>8</th>\n      <td>1957</td>\n      <td>Europe</td>\n      <td>66.703067</td>\n      <td>6963.012816</td>\n    </tr>\n    <tr>\n      <th>9</th>\n      <td>1957</td>\n      <td>Oceania</td>\n      <td>70.295000</td>\n      <td>11598.522455</td>\n    </tr>\n    <tr>\n      <th>10</th>\n      <td>1962</td>\n      <td>Africa</td>\n      <td>43.319442</td>\n      <td>1598.078825</td>\n    </tr>\n    <tr>\n      <th>11</th>\n      <td>1962</td>\n      <td>Americas</td>\n      <td>58.398760</td>\n      <td>4901.541870</td>\n    </tr>\n    <tr>\n      <th>12</th>\n      <td>1962</td>\n      <td>Asia</td>\n      <td>51.563223</td>\n      <td>5729.369625</td>\n    </tr>\n    <tr>\n      <th>13</th>\n      <td>1962</td>\n      <td>Europe</td>\n      <td>68.539233</td>\n      <td>8365.486814</td>\n    </tr>\n    <tr>\n      <th>14</th>\n      <td>1962</td>\n      <td>Oceania</td>\n      <td>71.085000</td>\n      <td>12696.452430</td>\n    </tr>\n    <tr>\n      <th>15</th>\n      <td>1967</td>\n      <td>Africa</td>\n      <td>45.334538</td>\n      <td>2050.363801</td>\n    </tr>\n    <tr>\n      <th>16</th>\n      <td>1967</td>\n      <td>Americas</td>\n      <td>60.410920</td>\n      <td>5668.253496</td>\n    </tr>\n    <tr>\n      <th>17</th>\n      <td>1967</td>\n      <td>Asia</td>\n      <td>54.663640</td>\n      <td>5971.173374</td>\n    </tr>\n    <tr>\n      <th>18</th>\n      <td>1967</td>\n      <td>Europe</td>\n      <td>69.737600</td>\n      <td>10143.823757</td>\n    </tr>\n    <tr>\n      <th>19</th>\n      <td>1967</td>\n      <td>Oceania</td>\n      <td>71.310000</td>\n      <td>14495.021790</td>\n    </tr>\n    <tr>\n      <th>20</th>\n      <td>1972</td>\n      <td>Africa</td>\n      <td>47.450942</td>\n      <td>2339.615674</td>\n    </tr>\n    <tr>\n      <th>21</th>\n      <td>1972</td>\n      <td>Americas</td>\n      <td>62.394920</td>\n      <td>6491.334139</td>\n    </tr>\n    <tr>\n      <th>22</th>\n      <td>1972</td>\n      <td>Asia</td>\n      <td>57.319269</td>\n      <td>8187.468699</td>\n    </tr>\n    <tr>\n      <th>23</th>\n      <td>1972</td>\n      <td>Europe</td>\n      <td>70.775033</td>\n      <td>12479.575246</td>\n    </tr>\n    <tr>\n      <th>24</th>\n      <td>1972</td>\n      <td>Oceania</td>\n      <td>71.910000</td>\n      <td>16417.333380</td>\n    </tr>\n    <tr>\n      <th>25</th>\n      <td>1977</td>\n      <td>Africa</td>\n      <td>49.580423</td>\n      <td>2585.938508</td>\n    </tr>\n    <tr>\n      <th>26</th>\n      <td>1977</td>\n      <td>Americas</td>\n      <td>64.391560</td>\n      <td>7352.007126</td>\n    </tr>\n    <tr>\n      <th>27</th>\n      <td>1977</td>\n      <td>Asia</td>\n      <td>59.610556</td>\n      <td>7791.314020</td>\n    </tr>\n    <tr>\n      <th>28</th>\n      <td>1977</td>\n      <td>Europe</td>\n      <td>71.937767</td>\n      <td>14283.979110</td>\n    </tr>\n    <tr>\n      <th>29</th>\n      <td>1977</td>\n      <td>Oceania</td>\n      <td>72.855000</td>\n      <td>17283.957605</td>\n    </tr>\n    <tr>\n      <th>30</th>\n      <td>1982</td>\n      <td>Africa</td>\n      <td>51.592865</td>\n      <td>2481.592960</td>\n    </tr>\n    <tr>\n      <th>31</th>\n      <td>1982</td>\n      <td>Americas</td>\n      <td>66.228840</td>\n      <td>7506.737088</td>\n    </tr>\n    <tr>\n      <th>32</th>\n      <td>1982</td>\n      <td>Asia</td>\n      <td>62.617939</td>\n      <td>7434.135157</td>\n    </tr>\n    <tr>\n      <th>33</th>\n      <td>1982</td>\n      <td>Europe</td>\n      <td>72.806400</td>\n      <td>15617.896551</td>\n    </tr>\n    <tr>\n      <th>34</th>\n      <td>1982</td>\n      <td>Oceania</td>\n      <td>74.290000</td>\n      <td>18554.709840</td>\n    </tr>\n    <tr>\n      <th>35</th>\n      <td>1987</td>\n      <td>Africa</td>\n      <td>53.344788</td>\n      <td>2282.668991</td>\n    </tr>\n    <tr>\n      <th>36</th>\n      <td>1987</td>\n      <td>Americas</td>\n      <td>68.090720</td>\n      <td>7793.400261</td>\n    </tr>\n    <tr>\n      <th>37</th>\n      <td>1987</td>\n      <td>Asia</td>\n      <td>64.851182</td>\n      <td>7608.226508</td>\n    </tr>\n    <tr>\n      <th>38</th>\n      <td>1987</td>\n      <td>Europe</td>\n      <td>73.642167</td>\n      <td>17214.310727</td>\n    </tr>\n    <tr>\n      <th>39</th>\n      <td>1987</td>\n      <td>Oceania</td>\n      <td>75.320000</td>\n      <td>20448.040160</td>\n    </tr>\n    <tr>\n      <th>40</th>\n      <td>1992</td>\n      <td>Africa</td>\n      <td>53.629577</td>\n      <td>2281.810333</td>\n    </tr>\n    <tr>\n      <th>41</th>\n      <td>1992</td>\n      <td>Americas</td>\n      <td>69.568360</td>\n      <td>8044.934406</td>\n    </tr>\n    <tr>\n      <th>42</th>\n      <td>1992</td>\n      <td>Asia</td>\n      <td>66.537212</td>\n      <td>8639.690248</td>\n    </tr>\n    <tr>\n      <th>43</th>\n      <td>1992</td>\n      <td>Europe</td>\n      <td>74.440100</td>\n      <td>17061.568084</td>\n    </tr>\n    <tr>\n      <th>44</th>\n      <td>1992</td>\n      <td>Oceania</td>\n      <td>76.945000</td>\n      <td>20894.045885</td>\n    </tr>\n    <tr>\n      <th>45</th>\n      <td>1997</td>\n      <td>Africa</td>\n      <td>53.598269</td>\n      <td>2378.759555</td>\n    </tr>\n    <tr>\n      <th>46</th>\n      <td>1997</td>\n      <td>Americas</td>\n      <td>71.150480</td>\n      <td>8889.300863</td>\n    </tr>\n    <tr>\n      <th>47</th>\n      <td>1997</td>\n      <td>Asia</td>\n      <td>68.020515</td>\n      <td>9834.093295</td>\n    </tr>\n    <tr>\n      <th>48</th>\n      <td>1997</td>\n      <td>Europe</td>\n      <td>75.505167</td>\n      <td>19076.781802</td>\n    </tr>\n    <tr>\n      <th>49</th>\n      <td>1997</td>\n      <td>Oceania</td>\n      <td>78.190000</td>\n      <td>24024.175170</td>\n    </tr>\n    <tr>\n      <th>50</th>\n      <td>2002</td>\n      <td>Africa</td>\n      <td>53.325231</td>\n      <td>2599.385159</td>\n    </tr>\n    <tr>\n      <th>51</th>\n      <td>2002</td>\n      <td>Americas</td>\n      <td>72.422040</td>\n      <td>9287.677107</td>\n    </tr>\n    <tr>\n      <th>52</th>\n      <td>2002</td>\n      <td>Asia</td>\n      <td>69.233879</td>\n      <td>10174.090397</td>\n    </tr>\n    <tr>\n      <th>53</th>\n      <td>2002</td>\n      <td>Europe</td>\n      <td>76.700600</td>\n      <td>21711.732422</td>\n    </tr>\n    <tr>\n      <th>54</th>\n      <td>2002</td>\n      <td>Oceania</td>\n      <td>79.740000</td>\n      <td>26938.778040</td>\n    </tr>\n    <tr>\n      <th>55</th>\n      <td>2007</td>\n      <td>Africa</td>\n      <td>54.806038</td>\n      <td>3089.032605</td>\n    </tr>\n    <tr>\n      <th>56</th>\n      <td>2007</td>\n      <td>Americas</td>\n      <td>73.608120</td>\n      <td>11003.031625</td>\n    </tr>\n    <tr>\n      <th>57</th>\n      <td>2007</td>\n      <td>Asia</td>\n      <td>70.728485</td>\n      <td>12473.026870</td>\n    </tr>\n    <tr>\n      <th>58</th>\n      <td>2007</td>\n      <td>Europe</td>\n      <td>77.648600</td>\n      <td>25054.481636</td>\n    </tr>\n    <tr>\n      <th>59</th>\n      <td>2007</td>\n      <td>Oceania</td>\n      <td>80.719500</td>\n      <td>29810.188275</td>\n    </tr>\n  </tbody>\n</table>\n</div>"
     },
     "metadata": {},
     "execution_count": 79
    }
   ],
   "source": [
    "df.groupby(['year','continent'])[['lifeExp','gdpPercap']].agg(Np.mean).reset_index()\n",
    "## rest_index gives the output in index format\n"
   ]
  },
  {
   "cell_type": "code",
   "execution_count": null,
   "metadata": {},
   "outputs": [],
   "source": []
  }
 ],
 "metadata": {
  "language_info": {
   "codemirror_mode": {
    "name": "ipython",
    "version": 3
   },
   "file_extension": ".py",
   "mimetype": "text/x-python",
   "name": "python",
   "nbconvert_exporter": "python",
   "pygments_lexer": "ipython3",
   "version": "3.7.2-final"
  },
  "orig_nbformat": 2,
  "kernelspec": {
   "name": "python37232bitaea9e38755964a87b5b0265ad4f135ff",
   "display_name": "Python 3.7.2 32-bit"
  }
 },
 "nbformat": 4,
 "nbformat_minor": 2
}